{
 "cells": [
  {
   "cell_type": "markdown",
   "metadata": {},
   "source": [
    "# Imports"
   ]
  },
  {
   "cell_type": "code",
   "execution_count": 1,
   "metadata": {
    "ExecuteTime": {
     "end_time": "2024-08-08T18:20:53.049077Z",
     "start_time": "2024-08-08T18:20:51.235215Z"
    }
   },
   "outputs": [],
   "source": [
    "import os\n",
    "import random\n",
    "import pickle\n",
    "import datetime\n",
    "from multiprocessing import Process, Pool\n",
    "\n",
    "import torch\n",
    "import torch.nn.functional as F\n",
    "from torch.nn import Linear\n",
    "from torch_geometric.loader import DataLoader\n",
    "from torch_geometric.nn import GCNConv, global_mean_pool"
   ]
  },
  {
   "cell_type": "markdown",
   "metadata": {},
   "source": [
    "# Load pickled graphs"
   ]
  },
  {
   "cell_type": "code",
   "execution_count": 2,
   "metadata": {
    "ExecuteTime": {
     "end_time": "2024-08-08T18:20:53.056305Z",
     "start_time": "2024-08-08T18:20:53.050459Z"
    }
   },
   "outputs": [
    {
     "name": "stdout",
     "output_type": "stream",
     "text": [
      "reading CAMDA20_MetaSUB_CSD16_BCN_026_1_kneaddata_subsampled_20_percent.labeled_graph_max\n",
      "reading CAMDA20_MetaSUB_CSD17_HKG_010_1_kneaddata_subsampled_20_percent.labeled_graph_max\n"
     ]
    },
    {
     "name": "stderr",
     "output_type": "stream",
     "text": [
      "/Users/denys_herasymuk/Research/Lviv_Data_Science_School_2024/Code/UCU-GNN_Project/ucu_gnn_venv/lib/python3.9/site-packages/torch/storage.py:414: FutureWarning: You are using `torch.load` with `weights_only=False` (the current default value), which uses the default pickle module implicitly. It is possible to construct malicious pickle data which will execute arbitrary code during unpickling (See https://github.com/pytorch/pytorch/blob/main/SECURITY.md#untrusted-models for more details). In a future release, the default value for `weights_only` will be flipped to `True`. This limits the functions that could be executed during unpickling. Arbitrary objects will no longer be allowed to be loaded via this mode unless they are explicitly allowlisted by the user via `torch.serialization.add_safe_globals`. We recommend you start setting `weights_only=True` for any use case where you don't have full control of the loaded file. Please open an issue on GitHub for any issues related to this experimental feature.\n",
      "  return torch.load(io.BytesIO(b))\n"
     ]
    }
   ],
   "source": [
    "graphs_dir = '../data/processed/'\n",
    "graphs = []\n",
    "cities_in_dataset = set()\n",
    "for file in os.listdir(graphs_dir):\n",
    "    if not file.startswith('CAMDA'):\n",
    "        print(f'skipping {file}')\n",
    "        continue\n",
    "    print(f'reading {file}')\n",
    "    city_code = os.path.splitext(file)[0].split('_')[3]\n",
    "    cities_in_dataset.add(city_code)\n",
    "    with open(os.path.join(graphs_dir, file), 'rb') as f:\n",
    "        graph = pickle.load(f)\n",
    "    graphs.append(graph)"
   ]
  },
  {
   "cell_type": "markdown",
   "metadata": {},
   "source": [
    "## Peek at the objects"
   ]
  },
  {
   "cell_type": "code",
   "execution_count": 3,
   "metadata": {
    "ExecuteTime": {
     "end_time": "2024-08-08T18:20:53.059405Z",
     "start_time": "2024-08-08T18:20:53.057537Z"
    }
   },
   "outputs": [
    {
     "name": "stdout",
     "output_type": "stream",
     "text": [
      "{'HKG', 'BCN'}\n"
     ]
    }
   ],
   "source": [
    "print(cities_in_dataset)"
   ]
  },
  {
   "cell_type": "code",
   "execution_count": 4,
   "metadata": {
    "ExecuteTime": {
     "end_time": "2024-08-08T18:20:53.062972Z",
     "start_time": "2024-08-08T18:20:53.060028Z"
    }
   },
   "outputs": [
    {
     "name": "stdout",
     "output_type": "stream",
     "text": [
      "graphs[0] = Data(x=[512, 25], edge_index=[2, 2141], weight=[2141], y=[1]) | with label 0\n"
     ]
    }
   ],
   "source": [
    "print(f'{graphs[0] = } | with label {graphs[0].y.item()}')"
   ]
  },
  {
   "cell_type": "code",
   "execution_count": 5,
   "metadata": {
    "ExecuteTime": {
     "end_time": "2024-08-08T18:20:53.066385Z",
     "start_time": "2024-08-08T18:20:53.062612Z"
    }
   },
   "outputs": [],
   "source": [
    "# print(f'{graphs[1] = } | with label {graphs[1].y.item()}')"
   ]
  },
  {
   "cell_type": "code",
   "execution_count": 6,
   "metadata": {
    "ExecuteTime": {
     "end_time": "2024-08-08T18:20:53.066641Z",
     "start_time": "2024-08-08T18:20:53.064935Z"
    }
   },
   "outputs": [
    {
     "name": "stdout",
     "output_type": "stream",
     "text": [
      "total graphs num = 2\n"
     ]
    }
   ],
   "source": [
    "graphs_n = len(graphs)\n",
    "print(f'total graphs num = {graphs_n}')"
   ]
  },
  {
   "cell_type": "markdown",
   "metadata": {},
   "source": [
    "# Train GCN"
   ]
  },
  {
   "cell_type": "markdown",
   "metadata": {},
   "source": [
    "## Data Loaders"
   ]
  },
  {
   "cell_type": "code",
   "execution_count": 7,
   "metadata": {
    "ExecuteTime": {
     "end_time": "2024-08-08T18:20:53.069890Z",
     "start_time": "2024-08-08T18:20:53.068280Z"
    }
   },
   "outputs": [],
   "source": [
    "random.shuffle(graphs)\n",
    "split_value = 0.5\n",
    "# split_value = 0.8\n",
    "train_dataset = graphs[:int(graphs_n * split_value)]\n",
    "val_dataset = graphs[int(graphs_n * split_value):]\n",
    "\n",
    "train_loader = DataLoader(train_dataset, batch_size=64, shuffle=True)\n",
    "val_loader = DataLoader(val_dataset, batch_size=1, shuffle=False)"
   ]
  },
  {
   "cell_type": "code",
   "execution_count": 8,
   "metadata": {
    "ExecuteTime": {
     "end_time": "2024-08-08T18:20:53.101674Z",
     "start_time": "2024-08-08T18:20:53.070563Z"
    }
   },
   "outputs": [
    {
     "name": "stdout",
     "output_type": "stream",
     "text": [
      "batches in train dataset = 1\n",
      "batches in validation dataset = 1\n"
     ]
    }
   ],
   "source": [
    "print(f'batches in train dataset = {len(train_loader)}')\n",
    "print(f'batches in validation dataset = {len(val_loader)}')"
   ]
  },
  {
   "cell_type": "markdown",
   "metadata": {},
   "source": [
    "## Model architecture"
   ]
  },
  {
   "cell_type": "code",
   "execution_count": 9,
   "metadata": {
    "ExecuteTime": {
     "end_time": "2024-08-08T18:20:53.129534Z",
     "start_time": "2024-08-08T18:20:53.076061Z"
    }
   },
   "outputs": [],
   "source": [
    "# TODO: improve architecture: add more layers, test other readout functions, etc.\n",
    "class GCN(torch.nn.Module):\n",
    "    def __init__(self, num_features, hidden_channels, num_classes):\n",
    "        super(GCN, self).__init__()\n",
    "        torch.manual_seed(12345)\n",
    "        self.conv1 = GCNConv(num_features, hidden_channels)\n",
    "        self.conv2 = GCNConv(hidden_channels, hidden_channels)\n",
    "        self.conv3 = GCNConv(hidden_channels, hidden_channels)\n",
    "        self.lin = Linear(hidden_channels, num_classes)\n",
    "\n",
    "    def forward(self, x, edge_index, edge_weight, batch):\n",
    "        # 1. Obtain node embeddings \n",
    "        x = self.conv1(x, edge_index, edge_weight)\n",
    "        x = x.relu()\n",
    "        x = self.conv2(x, edge_index, edge_weight)\n",
    "        x = x.relu()\n",
    "        x = self.conv3(x, edge_index, edge_weight)\n",
    "\n",
    "        # 2. Readout layer\n",
    "        x = global_mean_pool(x, batch)  # [batch_size, hidden_channels]\n",
    "\n",
    "        # 3. Apply a final classifier\n",
    "        x = F.dropout(x, p=0.5, training=self.training)\n",
    "        x = self.lin(x)\n",
    "        \n",
    "        return x"
   ]
  },
  {
   "cell_type": "code",
   "execution_count": 10,
   "metadata": {
    "ExecuteTime": {
     "end_time": "2024-08-08T18:20:53.129743Z",
     "start_time": "2024-08-08T18:20:53.078107Z"
    }
   },
   "outputs": [],
   "source": [
    "# ---------- these magic numbers were used during graph construction ---------- #\n",
    "kmer_len = 4\n",
    "subkmer_len = 2\n",
    "num_features = 5**subkmer_len # length of each node's feature vector\n",
    "# ------ num_features is needed to match the shape of the first layer in GCN --- #"
   ]
  },
  {
   "cell_type": "code",
   "execution_count": 11,
   "metadata": {
    "ExecuteTime": {
     "end_time": "2024-08-08T18:20:53.129944Z",
     "start_time": "2024-08-08T18:20:53.080069Z"
    }
   },
   "outputs": [
    {
     "name": "stdout",
     "output_type": "stream",
     "text": [
      "{'HKG', 'BCN'}\n"
     ]
    }
   ],
   "source": [
    "print(cities_in_dataset)\n",
    "num_classes = len(cities_in_dataset)"
   ]
  },
  {
   "cell_type": "code",
   "execution_count": 12,
   "metadata": {
    "ExecuteTime": {
     "end_time": "2024-08-08T18:20:53.160386Z",
     "start_time": "2024-08-08T18:20:53.082757Z"
    }
   },
   "outputs": [],
   "source": [
    "# initialize the model, optimizer, and loss function\n",
    "model = GCN(num_features=num_features, hidden_channels=32, num_classes=num_classes)\n",
    "optimizer = torch.optim.Adam(model.parameters(), lr=0.01)\n",
    "criterion = torch.nn.CrossEntropyLoss()"
   ]
  },
  {
   "cell_type": "code",
   "execution_count": 13,
   "metadata": {
    "ExecuteTime": {
     "end_time": "2024-08-08T18:20:53.165106Z",
     "start_time": "2024-08-08T18:20:53.128629Z"
    }
   },
   "outputs": [],
   "source": [
    "# train function\n",
    "def train():\n",
    "    model.train()\n",
    "    total_loss = 0\n",
    "    correct = 0\n",
    "    for data in train_loader:\n",
    "        optimizer.zero_grad()\n",
    "        out = model(data.x, data.edge_index, data.weight, data.batch)\n",
    "        loss = criterion(out, data.y)\n",
    "        loss.backward()\n",
    "        optimizer.step()\n",
    "        total_loss += loss.item()\n",
    "        pred = out.argmax(dim=1)\n",
    "        correct += (pred == data.y).sum().item()\n",
    "    return total_loss / len(train_loader), correct / len(train_dataset)\n",
    "\n",
    "# validation function\n",
    "def validate(loader):\n",
    "    model.eval()\n",
    "    correct = 0\n",
    "    for data in loader:\n",
    "        with torch.no_grad():\n",
    "            out = model(data.x, data.edge_index, data.weight, data.batch)\n",
    "            pred = out.argmax(dim=1)\n",
    "            correct += (pred == data.y).sum().item()\n",
    "    return correct / len(loader.dataset)"
   ]
  },
  {
   "cell_type": "code",
   "execution_count": 14,
   "metadata": {
    "ExecuteTime": {
     "end_time": "2024-08-08T18:21:00.021002Z",
     "start_time": "2024-08-08T18:20:53.130323Z"
    }
   },
   "outputs": [
    {
     "name": "stdout",
     "output_type": "stream",
     "text": [
      "Epoch 1, Train Loss: 0.6238, Train Acc: 1.0000, Val Acc: 0.0000\n",
      "Epoch 101, Train Loss: 0.0000, Train Acc: 1.0000, Val Acc: 0.0000\n",
      "Epoch 201, Train Loss: 0.0000, Train Acc: 1.0000, Val Acc: 0.0000\n",
      "Epoch 301, Train Loss: 0.0000, Train Acc: 1.0000, Val Acc: 0.0000\n",
      "Epoch 401, Train Loss: 0.0000, Train Acc: 1.0000, Val Acc: 0.0000\n",
      "Epoch 501, Train Loss: 0.0000, Train Acc: 1.0000, Val Acc: 0.0000\n",
      "Epoch 601, Train Loss: 0.0000, Train Acc: 1.0000, Val Acc: 0.0000\n",
      "Epoch 701, Train Loss: 0.0000, Train Acc: 1.0000, Val Acc: 0.0000\n",
      "Epoch 801, Train Loss: 0.0000, Train Acc: 1.0000, Val Acc: 0.0000\n",
      "Epoch 901, Train Loss: 0.0000, Train Acc: 1.0000, Val Acc: 0.0000\n",
      "Epoch 1001, Train Loss: 0.0000, Train Acc: 1.0000, Val Acc: 0.0000\n",
      "Epoch 1101, Train Loss: 0.0000, Train Acc: 1.0000, Val Acc: 0.0000\n",
      "Epoch 1201, Train Loss: 0.0000, Train Acc: 1.0000, Val Acc: 0.0000\n",
      "Epoch 1301, Train Loss: 0.0000, Train Acc: 1.0000, Val Acc: 0.0000\n",
      "Epoch 1401, Train Loss: 0.0000, Train Acc: 1.0000, Val Acc: 0.0000\n",
      "Epoch 1501, Train Loss: 0.0000, Train Acc: 1.0000, Val Acc: 0.0000\n",
      "Epoch 1601, Train Loss: 0.0000, Train Acc: 1.0000, Val Acc: 0.0000\n",
      "Epoch 1701, Train Loss: 0.0000, Train Acc: 1.0000, Val Acc: 0.0000\n",
      "Epoch 1801, Train Loss: 0.0000, Train Acc: 1.0000, Val Acc: 0.0000\n",
      "Epoch 1901, Train Loss: 0.0000, Train Acc: 1.0000, Val Acc: 0.0000\n"
     ]
    }
   ],
   "source": [
    "# training loop\n",
    "train_loss_for_plot = []\n",
    "train_acc_for_plot = []\n",
    "val_acc_for_plot = []\n",
    "\n",
    "num_epochs = 2000\n",
    "for epoch in range(num_epochs):\n",
    "    train_loss, train_acc = train()\n",
    "    val_acc = validate(val_loader)\n",
    "    train_loss_for_plot.append(train_loss)\n",
    "    train_acc_for_plot.append(train_acc)\n",
    "    val_acc_for_plot.append(val_acc)\n",
    "    if epoch % 100 == 0:\n",
    "        print(f'Epoch {epoch + 1}, Train Loss: {train_loss:.4f}, Train Acc: {train_acc:.4f}, Val Acc: {val_acc:.4f}')"
   ]
  },
  {
   "cell_type": "code",
   "execution_count": 15,
   "metadata": {
    "ExecuteTime": {
     "end_time": "2024-08-08T18:21:00.251836Z",
     "start_time": "2024-08-08T18:21:00.021220Z"
    }
   },
   "outputs": [],
   "source": [
    "import matplotlib.pyplot as plt\n",
    "import matplotlib as mpl"
   ]
  },
  {
   "cell_type": "code",
   "execution_count": 16,
   "metadata": {
    "ExecuteTime": {
     "end_time": "2024-08-08T18:21:00.575600Z",
     "start_time": "2024-08-08T18:21:00.254213Z"
    }
   },
   "outputs": [
    {
     "data": {
      "text/plain": "<Figure size 640x480 with 1 Axes>",
      "image/png": "[encoded data removed]"
     },
     "metadata": {},
     "output_type": "display_data"
    }
   ],
   "source": [
    "plt.plot(train_loss_for_plot)\n",
    "plt.title('train loss')\n",
    "plt.show()"
   ]
  },
  {
   "cell_type": "code",
   "execution_count": 17,
   "metadata": {
    "ExecuteTime": {
     "end_time": "2024-08-08T18:21:00.709440Z",
     "start_time": "2024-08-08T18:21:00.659791Z"
    }
   },
   "outputs": [
    {
     "data": {
      "text/plain": "<Figure size 640x480 with 1 Axes>",
      "image/png": "[encoded data removed]"
     },
     "metadata": {},
     "output_type": "display_data"
    }
   ],
   "source": [
    "plt.plot(train_acc_for_plot)\n",
    "plt.title('train acc')\n",
    "plt.show()"
   ]
  },
  {
   "cell_type": "code",
   "execution_count": 18,
   "metadata": {
    "ExecuteTime": {
     "end_time": "2024-08-08T18:21:00.774061Z",
     "start_time": "2024-08-08T18:21:00.714694Z"
    }
   },
   "outputs": [
    {
     "data": {
      "text/plain": "<Figure size 640x480 with 1 Axes>",
      "image/png": "[encoded data removed]"
     },
     "metadata": {},
     "output_type": "display_data"
    }
   ],
   "source": [
    "plt.plot(val_acc_for_plot)\n",
    "plt.title('val acc')\n",
    "plt.show()"
   ]
  },
  {
   "cell_type": "markdown",
   "metadata": {},
   "source": [
    "Conclusion: the validation dataset is **too small**. The model seems to be able to exploit the graph structure (supplied with edge weights and node attributes) to produce meaningful graph representations (embeddings) which can be seen from the train accuracy plot. However, the existing setup naturally **fails** to generalize on unseen samples.\n",
    "\n",
    "Next steps: \n",
    "* collect a larger dataset\n",
    "* improve network architecture\n",
    "* add more features to graph edges and nodes (+ literature review on best practices)"
   ]
  },
  {
   "cell_type": "code",
   "execution_count": 18,
   "outputs": [],
   "source": [],
   "metadata": {
    "collapsed": false,
    "ExecuteTime": {
     "end_time": "2024-08-08T18:21:00.778008Z",
     "start_time": "2024-08-08T18:21:00.773669Z"
    }
   }
  },
  {
   "cell_type": "markdown",
   "metadata": {},
   "source": []
  }
 ],
 "metadata": {
  "kernelspec": {
   "name": "python3",
   "language": "python",
   "display_name": "Python 3 (ipykernel)"
  },
  "language_info": {
   "codemirror_mode": {
    "name": "ipython",
    "version": 3
   },
   "file_extension": ".py",
   "mimetype": "text/x-python",
   "name": "python",
   "nbconvert_exporter": "python",
   "pygments_lexer": "ipython3",
   "version": "3.12.4"
  }
 },
 "nbformat": 4,
 "nbformat_minor": 4
}
